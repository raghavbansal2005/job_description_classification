{
 "cells": [
  {
   "cell_type": "code",
   "execution_count": 1,
   "metadata": {},
   "outputs": [],
   "source": [
    "import json\n",
    "import os\n",
    "import pandas as pd"
   ]
  },
  {
   "cell_type": "code",
   "execution_count": 2,
   "metadata": {},
   "outputs": [
    {
     "data": {
      "text/html": [
       "<div>\n",
       "<style scoped>\n",
       "    .dataframe tbody tr th:only-of-type {\n",
       "        vertical-align: middle;\n",
       "    }\n",
       "\n",
       "    .dataframe tbody tr th {\n",
       "        vertical-align: top;\n",
       "    }\n",
       "\n",
       "    .dataframe thead th {\n",
       "        text-align: right;\n",
       "    }\n",
       "</style>\n",
       "<table border=\"1\" class=\"dataframe\">\n",
       "  <thead>\n",
       "    <tr style=\"text-align: right;\">\n",
       "      <th></th>\n",
       "      <th>jd_sentence_text</th>\n",
       "      <th>jd_sent_manual_label_NEW</th>\n",
       "    </tr>\n",
       "  </thead>\n",
       "  <tbody>\n",
       "    <tr>\n",
       "      <th>0</th>\n",
       "      <td>Experience working in an Agile/Scrum</td>\n",
       "      <td>experience</td>\n",
       "    </tr>\n",
       "    <tr>\n",
       "      <th>1</th>\n",
       "      <td>Experience with source control and automated b...</td>\n",
       "      <td>experience</td>\n",
       "    </tr>\n",
       "    <tr>\n",
       "      <th>2</th>\n",
       "      <td>Bachelor's degree in Computer Science or a rel...</td>\n",
       "      <td>education</td>\n",
       "    </tr>\n",
       "    <tr>\n",
       "      <th>3</th>\n",
       "      <td>Experience with SQL Server or Oracle</td>\n",
       "      <td>experience</td>\n",
       "    </tr>\n",
       "    <tr>\n",
       "      <th>4</th>\n",
       "      <td>Experience with testing .Net applications</td>\n",
       "      <td>experience</td>\n",
       "    </tr>\n",
       "  </tbody>\n",
       "</table>\n",
       "</div>"
      ],
      "text/plain": [
       "                                    jd_sentence_text jd_sent_manual_label_NEW\n",
       "0               Experience working in an Agile/Scrum               experience\n",
       "1  Experience with source control and automated b...               experience\n",
       "2  Bachelor's degree in Computer Science or a rel...                education\n",
       "3               Experience with SQL Server or Oracle               experience\n",
       "4          Experience with testing .Net applications               experience"
      ]
     },
     "execution_count": 2,
     "metadata": {},
     "output_type": "execute_result"
    }
   ],
   "source": [
    "df = pd.read_csv(\"./MANUAL_LABELS_Sentence_Intent_Classification_1_30000~Extract2_Deduped.tsv\", sep='\\t')\n",
    "df['jd_sent_manual_label_NEW'] = df['jd_sent_manual_label_NEW'].str.lower()\n",
    "df.head()"
   ]
  },
  {
   "cell_type": "code",
   "execution_count": 9,
   "metadata": {},
   "outputs": [
    {
     "name": "stdout",
     "output_type": "stream",
     "text": [
      "['sql', 'oracle', 'json', 'rest', 'sqa', 'rest', 'html', 'css', 'java', 'python', 'c++', 'node.js', 'jira', 'angular', 'express', 'jquery', 'azure', 'kotlin', 'agile', 'scrum']\n"
     ]
    }
   ],
   "source": [
    "noun_removal = ['SQL','Oracle','JSON','REST','SQA',\"REST\",'HTML','CSS','Java','Python','C++','Node.js','JIRA','Angular','Express','jQuery','Azure','Kotlin',\"Agile\",\"Scrum\"]\n",
    "for i in range(len(noun_removal)):\n",
    "    noun_removal[i] = noun_removal[i].lower()\n",
    "\n",
    "print(noun_removal)"
   ]
  },
  {
   "cell_type": "code",
   "execution_count": 8,
   "metadata": {},
   "outputs": [
    {
     "data": {
      "text/html": [
       "<div>\n",
       "<style scoped>\n",
       "    .dataframe tbody tr th:only-of-type {\n",
       "        vertical-align: middle;\n",
       "    }\n",
       "\n",
       "    .dataframe tbody tr th {\n",
       "        vertical-align: top;\n",
       "    }\n",
       "\n",
       "    .dataframe thead th {\n",
       "        text-align: right;\n",
       "    }\n",
       "</style>\n",
       "<table border=\"1\" class=\"dataframe\">\n",
       "  <thead>\n",
       "    <tr style=\"text-align: right;\">\n",
       "      <th></th>\n",
       "      <th>jd_sentence_text</th>\n",
       "      <th>jd_sent_manual_label_NEW</th>\n",
       "    </tr>\n",
       "  </thead>\n",
       "  <tbody>\n",
       "    <tr>\n",
       "      <th>0</th>\n",
       "      <td>Experience working in an Agile/Scrum</td>\n",
       "      <td>experience</td>\n",
       "    </tr>\n",
       "    <tr>\n",
       "      <th>1</th>\n",
       "      <td>Experience with source control and automated b...</td>\n",
       "      <td>experience</td>\n",
       "    </tr>\n",
       "    <tr>\n",
       "      <th>2</th>\n",
       "      <td>Bachelor's degree in Computer Science or a rel...</td>\n",
       "      <td>education</td>\n",
       "    </tr>\n",
       "    <tr>\n",
       "      <th>3</th>\n",
       "      <td>Experience with SQL Server or Oracle</td>\n",
       "      <td>experience</td>\n",
       "    </tr>\n",
       "    <tr>\n",
       "      <th>4</th>\n",
       "      <td>Experience with testing .Net applications</td>\n",
       "      <td>experience</td>\n",
       "    </tr>\n",
       "  </tbody>\n",
       "</table>\n",
       "</div>"
      ],
      "text/plain": [
       "                                    jd_sentence_text jd_sent_manual_label_NEW\n",
       "0             Experience working in an Agile/Scrum                 experience\n",
       "1  Experience with source control and automated b...               experience\n",
       "2  Bachelor's degree in Computer Science or a rel...                education\n",
       "3             Experience with SQL Server or Oracle                 experience\n",
       "4        Experience with testing .Net applications                 experience"
      ]
     },
     "execution_count": 8,
     "metadata": {},
     "output_type": "execute_result"
    }
   ],
   "source": [
    "for idx, row in df.iterrows():\n",
    "    current_words = row[\"jd_sentence_text\"].split(\" \")\n",
    "    for j in range(len(current_words)):\n",
    "        for i in range(len(noun_removal)):\n",
    "            cur_removal_word = noun_removal[i]\n",
    "            cur_word = current_words[j]\n",
    "            if cur_removal_word in cur_word:\n",
    "                print(\"sfsdf\")\n",
    "                current_words[j] = \"kjfsdhgrandrand\"\n",
    "\n",
    "    current_sentence = \"\"\n",
    "    for word in current_words:\n",
    "        current_sentence += word\n",
    "        current_sentence += \" \"\n",
    "    \n",
    "    current_sentene = current_sentence[:-1]\n",
    "    df.at[idx, 'jd_sentence_text'] = current_sentence\n",
    "\n",
    "df.head()\n",
    "    "
   ]
  },
  {
   "cell_type": "code",
   "execution_count": null,
   "metadata": {},
   "outputs": [],
   "source": []
  },
  {
   "cell_type": "code",
   "execution_count": null,
   "metadata": {},
   "outputs": [
    {
     "ename": "",
     "evalue": "",
     "output_type": "error",
     "traceback": [
      "\u001b[1;31mFailed to start the Kernel. \n",
      "Kernel Python 3.9.12 64-bit is not usable. Check the Jupyter output tab for more information. \n",
      "View Jupyter <a href='command:jupyter.viewOutput'>log</a> for further details."
     ]
    }
   ],
   "source": [
    "df\n"
   ]
  },
  {
   "cell_type": "code",
   "execution_count": 27,
   "metadata": {},
   "outputs": [],
   "source": [
    "set_of_labels = set()\n",
    "for index, row in df.iterrows():\n",
    "    if str(row[\"jd_sent_manual_label_NEW\"]).lower() == \"about_company\":\n",
    "        df.at[index,\"jd_sent_manual_label_NEW\"] = \"about_company\"\n",
    "    set_of_labels.add(row[\"jd_sent_manual_label_NEW\"].lower())\n"
   ]
  },
  {
   "cell_type": "code",
   "execution_count": 28,
   "metadata": {},
   "outputs": [],
   "source": [
    "ind = 0\n",
    "label_to_id = dict()\n",
    "for label in set_of_labels:\n",
    "    label_to_id[label] = ind\n",
    "    ind+=1\n",
    "\n",
    "with open(\"./category_to_id.json\", 'w') as fp:\n",
    "    json.dump(label_to_id, fp)"
   ]
  },
  {
   "cell_type": "code",
   "execution_count": 29,
   "metadata": {},
   "outputs": [],
   "source": [
    "length_of_df = len(df)\n",
    "\n",
    "shuffled_df = df.sample(frac=1)\n",
    "\n",
    "splits_list = [int(0.8*length_of_df),int(0.9*length_of_df)]\n",
    "\n",
    "train_data = df[:splits_list[0]]\n",
    "val_data = df[(splits_list[0]+1):splits_list[1]]\n",
    "test_data = df[(splits_list[1]+1):]\n",
    "\n",
    "train_data.to_json(\"./splits/train.json\", orient=\"records\")\n",
    "val_data.to_json(\"./splits/val.json\", orient=\"records\")\n",
    "test_data.to_json(\"./splits/test.json\", orient=\"records\")"
   ]
  },
  {
   "cell_type": "code",
   "execution_count": 30,
   "metadata": {},
   "outputs": [
    {
     "data": {
      "text/plain": [
       "{'benefits': 0,\n",
       " 'eoe': 1,\n",
       " 'location_travel': 2,\n",
       " 'soft_skills': 3,\n",
       " 'certification': 4,\n",
       " 'education': 5,\n",
       " 'authorization_clearance': 6,\n",
       " 'skill_knowledge': 7,\n",
       " 'position_role': 8,\n",
       " 'experience': 9,\n",
       " 'responsibility': 10,\n",
       " 'about_company': 11,\n",
       " 'or_edu_exp': 12}"
      ]
     },
     "execution_count": 30,
     "metadata": {},
     "output_type": "execute_result"
    }
   ],
   "source": [
    "label_to_id"
   ]
  },
  {
   "cell_type": "code",
   "execution_count": null,
   "metadata": {},
   "outputs": [
    {
     "ename": "",
     "evalue": "",
     "output_type": "error",
     "traceback": [
      "\u001b[1;31mFailed to start the Kernel. \n",
      "Kernel Python 3.9.12 64-bit is not usable. Check the Jupyter output tab for more information. \n",
      "View Jupyter <a href='command:jupyter.viewOutput'>log</a> for further details."
     ]
    }
   ],
   "source": []
  },
  {
   "cell_type": "code",
   "execution_count": null,
   "metadata": {},
   "outputs": [],
   "source": []
  }
 ],
 "metadata": {
  "kernelspec": {
   "display_name": "Python 3.10.4",
   "language": "python",
   "name": "python3"
  },
  "language_info": {
   "codemirror_mode": {
    "name": "ipython",
    "version": 3
   },
   "file_extension": ".py",
   "mimetype": "text/x-python",
   "name": "python",
   "nbconvert_exporter": "python",
   "pygments_lexer": "ipython3",
   "version": "3.10.4"
  },
  "orig_nbformat": 4,
  "vscode": {
   "interpreter": {
    "hash": "bddfc6c967618de3b601b0077a158d4f780614c80ac4c9d0c2f643343eb0a807"
   }
  }
 },
 "nbformat": 4,
 "nbformat_minor": 2
}
